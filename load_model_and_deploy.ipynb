{
 "cells": [
  {
   "cell_type": "code",
   "execution_count": 16,
   "id": "e9a3d596-195f-42ea-99d1-3abd31df813c",
   "metadata": {},
   "outputs": [],
   "source": [
    "import sagemaker\n",
    "from sagemaker.model import Model\n",
    "from sagemaker import image_uris\n",
    "from sagemaker.predictor import Predictor\n",
    "from sagemaker.serializers import CSVSerializer, JSONSerializer\n",
    "from sagemaker.deserializers import CSVDeserializer, JSONDeserializer"
   ]
  },
  {
   "cell_type": "code",
   "execution_count": 7,
   "id": "6a05df3a-7f10-4dd0-ba4f-e335487afe98",
   "metadata": {},
   "outputs": [],
   "source": [
    "container = image_uris.retrieve(\"xgboost\", \"us-east-1\", \"latest\")"
   ]
  },
  {
   "cell_type": "code",
   "execution_count": 9,
   "id": "ba862354-8e50-4c2f-9405-49f00992a01b",
   "metadata": {},
   "outputs": [],
   "source": [
    "## Cargar el modelo\n",
    "model = Model(image_uri=container, \n",
    "              model_data=\"s3://sagemaker-us-east-1-381492136910/xgboost-2025-10-04-00-58-53-999/output/model.tar.gz\",\n",
    "              role=\"LabRole\")"
   ]
  },
  {
   "cell_type": "code",
   "execution_count": 11,
   "id": "af19cbff-1ec9-49f9-8d36-9fa32e2999db",
   "metadata": {},
   "outputs": [
    {
     "name": "stdout",
     "output_type": "stream",
     "text": [
      "-----!"
     ]
    }
   ],
   "source": [
    "model.deploy(initial_instance_count=1, \n",
    "                            instance_type=\"ml.m5.xlarge\",\n",
    "                            serializer=CSVSerializer(),\n",
    "                            deserializer=CSVDeserializer())"
   ]
  },
  {
   "cell_type": "code",
   "execution_count": 13,
   "id": "2bf44cce-4f10-4e27-a5dd-41ddfb808a45",
   "metadata": {},
   "outputs": [],
   "source": [
    "predictor = Predictor(endpoint_name=\"xgboost-2025-10-04-12-57-11-096\")"
   ]
  },
  {
   "cell_type": "code",
   "execution_count": 15,
   "id": "f2aafe10-2f35-422e-a091-e1288724aefe",
   "metadata": {},
   "outputs": [],
   "source": [
    "#predictor.deserializer = JSONDeserializer()"
   ]
  },
  {
   "cell_type": "code",
   "execution_count": 17,
   "id": "07d7a990-2cb0-4501-a3c0-c0524e4b9a51",
   "metadata": {},
   "outputs": [],
   "source": [
    "#predictor.serializer = JSONSerializer ()"
   ]
  },
  {
   "cell_type": "code",
   "execution_count": 18,
   "id": "db1d1216-ad8d-43d2-849b-6eb46fb868bc",
   "metadata": {},
   "outputs": [],
   "source": [
    "#predictor.delete_predictor ()"
   ]
  },
  {
   "cell_type": "code",
   "execution_count": null,
   "id": "8f15b141-f1b3-44ba-9084-5b538ae29ca8",
   "metadata": {},
   "outputs": [],
   "source": []
  }
 ],
 "metadata": {
  "kernelspec": {
   "display_name": "conda_python3",
   "language": "python",
   "name": "conda_python3"
  },
  "language_info": {
   "codemirror_mode": {
    "name": "ipython",
    "version": 3
   },
   "file_extension": ".py",
   "mimetype": "text/x-python",
   "name": "python",
   "nbconvert_exporter": "python",
   "pygments_lexer": "ipython3",
   "version": "3.10.18"
  }
 },
 "nbformat": 4,
 "nbformat_minor": 5
}
